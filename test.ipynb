{
 "cells": [
  {
   "cell_type": "code",
   "execution_count": 10,
   "metadata": {},
   "outputs": [
    {
     "name": "stdout",
     "output_type": "stream",
     "text": [
      "45.0\n",
      "90.0\n"
     ]
    }
   ],
   "source": [
    "import math\n",
    "num_of_ray = 5\n",
    "car_angle = 0\n",
    "for i in range(1,math.ceil(num_of_ray / 2) ):\n",
    "    angle = car_angle + (car_angle + 135) / math.ceil(num_of_ray / 2)  * i\n",
    "    print(angle)\n"
   ]
  },
  {
   "cell_type": "code",
   "execution_count": 15,
   "metadata": {},
   "outputs": [
    {
     "name": "stdout",
     "output_type": "stream",
     "text": [
      "230.0\n",
      "280.0\n",
      "180\n",
      "130.0\n",
      "80.0\n"
     ]
    }
   ],
   "source": [
    "num_rays = 5\n",
    "num_rays_side = math.ceil(num_rays / 2)\n",
    "ray_range = 100\n",
    "car_angle = 180\n",
    "for j in [-1, 0, 1]:\n",
    "    for i in range(1, num_rays_side):\n",
    "        if j == 0:\n",
    "            angle  = car_angle\n",
    "            print(angle)\n",
    "            break\n",
    "        angle = car_angle + - j * ray_range / (num_rays_side - 1) * i\n",
    "        print(angle)\n"
   ]
  },
  {
   "cell_type": "code",
   "execution_count": null,
   "metadata": {},
   "outputs": [],
   "source": []
  }
 ],
 "metadata": {
  "kernelspec": {
   "display_name": "Python 3",
   "language": "python",
   "name": "python3"
  },
  "language_info": {
   "codemirror_mode": {
    "name": "ipython",
    "version": 3
   },
   "file_extension": ".py",
   "mimetype": "text/x-python",
   "name": "python",
   "nbconvert_exporter": "python",
   "pygments_lexer": "ipython3",
   "version": "3.11.0"
  }
 },
 "nbformat": 4,
 "nbformat_minor": 2
}
